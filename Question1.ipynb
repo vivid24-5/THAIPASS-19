# Exploring Chemical Elements on the Surface of the Sun
# Question 1:What is the sum of all the abundances in the Sun?
import numpy as np
solar_file = open('SolarElements.txt','r')
a=0
y=[]
for x in solar_file:
  a=a+float(x.split('    ')[1].split('   ')[1].split('e')[0])*(10**  int(x.split('    ')[1].split('   ')[1].split('e')[1][0:3]))
print(a)
solar_file.close()

